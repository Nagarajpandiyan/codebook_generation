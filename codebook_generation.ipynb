{
  "nbformat": 4,
  "nbformat_minor": 0,
  "metadata": {
    "kernelspec": {
      "display_name": "Python 3",
      "language": "python",
      "name": "python3"
    },
    "language_info": {
      "codemirror_mode": {
        "name": "ipython",
        "version": 3
      },
      "file_extension": ".py",
      "mimetype": "text/x-python",
      "name": "python",
      "nbconvert_exporter": "python",
      "pygments_lexer": "ipython3",
      "version": "3.5.2"
    },
    "colab": {
      "name": "codebook_generation.ipynb",
      "provenance": []
    }
  },
  "cells": [
    {
      "cell_type": "code",
      "metadata": {
        "id": "C6ZUZeoUsksN",
        "colab_type": "code",
        "colab": {}
      },
      "source": [
        "import cv2\n",
        "import numpy as np\n",
        "from scipy.cluster.vq import vq, kmeans, whiten #Euclidean distance K-means\n",
        "\n",
        "from sklearn.cluster import AgglomerativeClustering"
      ],
      "execution_count": 0,
      "outputs": []
    },
    {
      "cell_type": "code",
      "metadata": {
        "id": "YqgPfQblsksV",
        "colab_type": "code",
        "colab": {}
      },
      "source": [
        "k = np.random.rand(100).reshape(10,10)"
      ],
      "execution_count": 0,
      "outputs": []
    },
    {
      "cell_type": "code",
      "metadata": {
        "id": "yyLhTuF_sksb",
        "colab_type": "code",
        "colab": {}
      },
      "source": [
        "codebook, distortion = kmeans(k, int(np.sqrt(k.size)))"
      ],
      "execution_count": 0,
      "outputs": []
    },
    {
      "cell_type": "code",
      "metadata": {
        "id": "ClSo15i-sksg",
        "colab_type": "code",
        "outputId": "1c326c12-6fdb-44dd-b44e-c0643d9c35e0",
        "colab": {}
      },
      "source": [
        "codebook"
      ],
      "execution_count": 0,
      "outputs": [
        {
          "output_type": "execute_result",
          "data": {
            "text/plain": [
              "array([[ 0.70763747,  0.47472526,  0.59266943,  0.41427778,  0.73966094,\n",
              "         0.71429352,  0.3116987 ,  0.37437582,  0.49511535,  0.54568372],\n",
              "       [ 0.33988453,  0.27481267,  0.35582304,  0.49555138,  0.20876142,\n",
              "         0.4180715 ,  0.73762992,  0.60294112,  0.77119873,  0.5981769 ]])"
            ]
          },
          "metadata": {
            "tags": []
          },
          "execution_count": 20
        }
      ]
    },
    {
      "cell_type": "code",
      "metadata": {
        "id": "dB4j1xuFsksq",
        "colab_type": "code",
        "colab": {}
      },
      "source": [
        "#TO-DO Use Kmeans if K is well know. The clusters should result in low variance\n",
        "#Check agglomerative clustering when K is not know. It works well for more samples + clusters\n",
        "#Check Minibatch Kmeans to process features in batches. Scales very well.\n",
        "\n",
        "model = AgglomerativeClustering()\n",
        "y = model.fit(k)"
      ],
      "execution_count": 0,
      "outputs": []
    },
    {
      "cell_type": "code",
      "metadata": {
        "id": "n8MOGbSwsksw",
        "colab_type": "code",
        "outputId": "d8b86a27-d750-479b-ce26-3e53274b829d",
        "colab": {}
      },
      "source": [
        "y\n"
      ],
      "execution_count": 0,
      "outputs": [
        {
          "output_type": "execute_result",
          "data": {
            "text/plain": [
              "AgglomerativeClustering(affinity='euclidean', compute_full_tree='auto',\n",
              "            connectivity=None, linkage='ward', memory=None, n_clusters=2,\n",
              "            pooling_func=<function mean at 0x7faa8810af28>)"
            ]
          },
          "metadata": {
            "tags": []
          },
          "execution_count": 23
        }
      ]
    },
    {
      "cell_type": "code",
      "metadata": {
        "id": "xJagupL6sks1",
        "colab_type": "code",
        "outputId": "56726354-3fea-401a-c5cc-fa0bdd67a462",
        "colab": {}
      },
      "source": [
        "y.labels_"
      ],
      "execution_count": 0,
      "outputs": [
        {
          "output_type": "execute_result",
          "data": {
            "text/plain": [
              "array([1, 0, 1, 0, 0, 0, 0, 0, 1, 0])"
            ]
          },
          "metadata": {
            "tags": []
          },
          "execution_count": 24
        }
      ]
    },
    {
      "cell_type": "code",
      "metadata": {
        "id": "grlTj53_sks3",
        "colab_type": "code",
        "outputId": "066b796a-3d1c-453a-da53-4845587df098",
        "colab": {}
      },
      "source": [
        "model = AgglomerativeClustering(5)\n",
        "y = model.fit(k)\n",
        "y.labels_"
      ],
      "execution_count": 0,
      "outputs": [
        {
          "output_type": "execute_result",
          "data": {
            "text/plain": [
              "array([3, 0, 1, 4, 0, 2, 2, 0, 1, 2])"
            ]
          },
          "metadata": {
            "tags": []
          },
          "execution_count": 25
        }
      ]
    },
    {
      "cell_type": "code",
      "metadata": {
        "id": "XxGbytfXsks8",
        "colab_type": "code",
        "colab": {}
      },
      "source": [
        ""
      ],
      "execution_count": 0,
      "outputs": []
    }
  ]
}